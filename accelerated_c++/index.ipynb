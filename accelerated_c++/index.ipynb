{
 "cells": [
  {
   "cell_type": "markdown",
   "metadata": {},
   "source": [
    "# Index\n",
    "\n",
    "[Chapter 0](https://colab.research.google.com/github/khiner/notebooks/blob/master/accelerated_c%2B%2B/chapter_0/chapter_0.ipynb)\n",
    "\n",
    "[Chapter 1](https://colab.research.google.com/github/khiner/notebooks/blob/master/accelerated_c%2B%2B/chapter_1/chapter_1.ipynb)\n",
    "\n",
    "[Chapter 2](https://colab.research.google.com/github/khiner/notebooks/blob/master/accelerated_c%2B%2B/chapter_2/chapter_2.ipynb)\n",
    "\n",
    "[Chapter 3](https://colab.research.google.com/github/khiner/notebooks/blob/master/accelerated_c%2B%2B/chapter_3/chapter_3.ipynb)\n",
    "\n",
    "[Chapter 4](https://colab.research.google.com/github/khiner/notebooks/blob/master/accelerated_c%2B%2B/chapter_4/chapter_4.ipynb)\n",
    "\n",
    "[Chapter 5](https://colab.research.google.com/github/khiner/notebooks/blob/master/accelerated_c%2B%2B/chapter_5/chapter_5.ipynb)\n",
    "\n",
    "[Chapter 6](https://colab.research.google.com/github/khiner/notebooks/blob/master/accelerated_c%2B%2B/chapter_6/chapter_6.ipynb)\n",
    "\n",
    "[Chapter 7](https://colab.research.google.com/github/khiner/notebooks/blob/master/accelerated_c%2B%2B/chapter_7/chapter_7.ipynb)\n",
    "\n",
    "[Chapter 8](https://colab.research.google.com/github/khiner/notebooks/blob/master/accelerated_c%2B%2B/chapter_8/chapter_8.ipynb)\n",
    "\n",
    "[Chapter 9](https://colab.research.google.com/github/khiner/notebooks/blob/master/accelerated_c%2B%2B/chapter_9/chapter_9.ipynb)\n",
    "\n",
    "[Chapter 10](https://colab.research.google.com/github/khiner/notebooks/blob/master/accelerated_c%2B%2B/chapter_10/chapter_10.ipynb)\n",
    "\n",
    "[Chapter 11](https://colab.research.google.com/github/khiner/notebooks/blob/master/accelerated_c%2B%2B/chapter_11/chapter_11.ipynb)\n",
    "\n",
    "[Chapter 12](https://colab.research.google.com/github/khiner/notebooks/blob/master/accelerated_c%2B%2B/chapter_12/chapter_12.ipynb)\n",
    "\n",
    "[Chapter 13](https://colab.research.google.com/github/khiner/notebooks/blob/master/accelerated_c%2B%2B/chapter_13/chapter_13.ipynb)"
   ]
  }
 ],
 "metadata": {
  "kernelspec": {
   "display_name": "Python 3",
   "language": "python",
   "name": "python3"
  },
  "language_info": {
   "codemirror_mode": {
    "name": "ipython",
    "version": 3
   },
   "file_extension": ".py",
   "mimetype": "text/x-python",
   "name": "python",
   "nbconvert_exporter": "python",
   "pygments_lexer": "ipython3",
   "version": "3.7.3"
  }
 },
 "nbformat": 4,
 "nbformat_minor": 2
}

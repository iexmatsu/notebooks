{
 "cells": [
  {
   "cell_type": "markdown",
   "metadata": {},
   "source": [
    "# Index\n",
    "\n",
    "[Chapter 1: Digital Signals and Sampling](https://colab.research.google.com/github/khiner/notebooks/blob/master/musimathics/volume_2/chapter_1_digital_signals_and_sampling.ipynb)\n",
    "\n",
    "[Chapter 2: Musical Signals](https://colab.research.google.com/github/khiner/notebooks/blob/master/musimathics/volume_2/chapter_2_musical_signals.ipynb)\n",
    "\n",
    "[Chapter 3: Spectral Analysis and Synthesis](https://colab.research.google.com/github/khiner/notebooks/blob/master/musimathics/volume_2/chapter_3_spectral_analysis_and_synthesis.ipynb)\n",
    "\n",
    "[Chapter 4: Convolution](https://colab.research.google.com/github/khiner/notebooks/blob/master/musimathics/volume_2/chapter_4_convolution.ipynb)\n",
    "\n",
    "[Chapter 5: Filtering](https://colab.research.google.com/github/khiner/notebooks/blob/master/musimathics/volume_2/chapter_5_filtering.ipynb)\n",
    "\n",
    "[Chapter 6: Resonance](https://colab.research.google.com/github/khiner/notebooks/blob/master/musimathics/volume_2/chapter_6_resonance.ipynb)\n",
    "\n",
    "[Chapter 7: The Wave Equation](https://colab.research.google.com/github/khiner/notebooks/blob/master/musimathics/volume_2/chapter_7_the_wave_equation.ipynb)\n",
    "\n",
    "[Chapter 8: Acoustical Systems](https://colab.research.google.com/github/khiner/notebooks/blob/master/musimathics/volume_2/chapter_8_acoustical_systems.ipynb)\n",
    "\n",
    "[Chapter 9: Sound Synthesis](https://colab.research.google.com/github/khiner/notebooks/blob/master/musimathics/volume_2/chapter_9_sound_synthesis.ipynb)\n",
    "\n",
    "[Chapter 10: Dynamic Spectra](https://colab.research.google.com/github/khiner/notebooks/blob/master/musimathics/volume_2/chapter_10_dynamic_spectra.ipynb)"
   ]
  }
 ],
 "metadata": {
  "kernelspec": {
   "display_name": "Python 3",
   "language": "python",
   "name": "python3"
  },
  "language_info": {
   "codemirror_mode": {
    "name": "ipython",
    "version": 3
   },
   "file_extension": ".py",
   "mimetype": "text/x-python",
   "name": "python",
   "nbconvert_exporter": "python",
   "pygments_lexer": "ipython3",
   "version": "3.7.3"
  }
 },
 "nbformat": 4,
 "nbformat_minor": 2
}

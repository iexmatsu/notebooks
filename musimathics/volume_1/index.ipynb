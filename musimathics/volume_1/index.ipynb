{
 "cells": [
  {
   "cell_type": "markdown",
   "metadata": {},
   "source": [
    "# Index\n",
    "\n",
    "[Chapter 3: Musical Scales, Tuning and Intonation](https://colab.research.google.com/github/khiner/notebooks/blob/master/musimathics/volume_1/chapter_3_musical_scales_tuning_and_intonation.ipynb)\n",
    "\n",
    "[Chapter 4: Physical Basis of Sound](https://colab.research.google.com/github/khiner/notebooks/blob/master/musimathics/volume_1/chapter_4_physical_basis_of_sound.ipynb)\n",
    "\n",
    "[Chapter 5: Geometrical Basis of Sound](https://colab.research.google.com/github/khiner/notebooks/blob/master/musimathics/volume_1/chapter_5_geometrical_basis_of_sound.ipynb)\n",
    "\n",
    "[Chapter 6: Psychophysical Basis of Sound](https://colab.research.google.com/github/khiner/notebooks/blob/master/musimathics/volume_1/chapter_6_psychophysical_basis_of_sound.ipynb)\n",
    "\n",
    "[Chapter 7: Introduction to Acoustics](https://colab.research.google.com/github/khiner/notebooks/blob/master/musimathics/volume_1/chapter_7_introduction_to_acoustics.ipynb)\n",
    "\n",
    "[Chapter 8: Vibrating Systems](https://colab.research.google.com/github/khiner/notebooks/blob/master/musimathics/volume_1/chapter_8_vibrating_systems.ipynb)\n",
    "\n",
    "[Chapter 9: Composition and Methodology](https://colab.research.google.com/github/khiner/notebooks/blob/master/musimathics/volume_1/chapter_9_composition_and_methodology.ipynb)"
   ]
  }
 ],
 "metadata": {
  "kernelspec": {
   "display_name": "Python 3",
   "language": "python",
   "name": "python3"
  },
  "language_info": {
   "codemirror_mode": {
    "name": "ipython",
    "version": 3
   },
   "file_extension": ".py",
   "mimetype": "text/x-python",
   "name": "python",
   "nbconvert_exporter": "python",
   "pygments_lexer": "ipython3",
   "version": "3.7.3"
  }
 },
 "nbformat": 4,
 "nbformat_minor": 2
}

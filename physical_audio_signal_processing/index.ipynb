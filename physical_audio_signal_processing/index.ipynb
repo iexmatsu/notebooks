{
 "cells": [
  {
   "cell_type": "markdown",
   "metadata": {},
   "source": [
    "# Index\n",
    "\n",
    "[Chapter 1: Physical Signal Modeling Intro](https://colab.research.google.com/github/khiner/notebooks/blob/master/physical_audio_signal_processing/chapter_1_physical_signal_modeling_intro.ipynb)\n",
    "\n",
    "[Chapter 2: Acoustic Modeling with Digital Delay](https://colab.research.google.com/github/khiner/notebooks/blob/master/physical_audio_signal_processing/chapter_2_acoustic_modeling_with_digital_delay.ipynb)\n",
    "\n",
    "[Chapter 3: Artificial Reverberation](https://colab.research.google.com/github/khiner/notebooks/blob/master/physical_audio_signal_processing/chapter_3_artificial_reverberation.ipynb)\n",
    "\n",
    "[Chapter 4: Delay Line and Signal Interpolation](https://colab.research.google.com/github/khiner/notebooks/blob/master/physical_audio_signal_processing/chapter_4_delay_line_and_signal_interpolation.ipynb)\n",
    "\n",
    "[Chapter 5: Time-Varying Delay Effects](https://colab.research.google.com/github/khiner/notebooks/blob/master/physical_audio_signal_processing/chapter_5_time_varying_delay_effects.ipynb)\n",
    "\n",
    "[Chapter 6: Digital Waveguide Models](https://colab.research.google.com/github/khiner/notebooks/blob/master/physical_audio_signal_processing/chapter_6_digital_waveguide_models.ipynb)\n",
    "\n",
    "[Chapter 7: Lumped Models](https://colab.research.google.com/github/khiner/notebooks/blob/master/physical_audio_signal_processing/chapter_7_lumped_models.ipynb)\n",
    "\n",
    "[Chapter 8: Transfer Function Models](https://colab.research.google.com/github/khiner/notebooks/blob/master/physical_audio_signal_processing/chapter_8_transfer_function_models.ipynb)\n",
    "\n",
    "**Chapter 9: Virtual Musial Instruments**\n",
    "* [Part 1: Guitars and String Excitations](https://colab.research.google.com/github/khiner/notebooks/blob/master/physical_audio_signal_processing/chapter_9_virtual_musical_instruments.ipynb)\n",
    "* [Part 2: Piano Synthesis](https://colab.research.google.com/github/khiner/notebooks/blob/master/physical_audio_signal_processing/chapter_9_virtual_musical_instruments_part_2.ipynb)\n",
    "* [Part 3: Woodwinds](https://colab.research.google.com/github/khiner/notebooks/blob/master/physical_audio_signal_processing/chapter_9_virtual_musical_instruments_part_3.ipynb)"
   ]
  }
 ],
 "metadata": {
  "kernelspec": {
   "display_name": "Python 3",
   "language": "python",
   "name": "python3"
  },
  "language_info": {
   "codemirror_mode": {
    "name": "ipython",
    "version": 3
   },
   "file_extension": ".py",
   "mimetype": "text/x-python",
   "name": "python",
   "nbconvert_exporter": "python",
   "pygments_lexer": "ipython3",
   "version": "3.7.3"
  }
 },
 "nbformat": 4,
 "nbformat_minor": 2
}

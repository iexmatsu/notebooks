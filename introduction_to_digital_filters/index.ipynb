{
 "cells": [
  {
   "cell_type": "markdown",
   "metadata": {},
   "source": [
    "# Index\n",
    "\n",
    "[Chapter 1: The Simplest Lowpass Filter](https://colab.research.google.com/github/khiner/notebooks/blob/master/introduction_to_digital_filters/chapter_1_the_simplest_lowpass_filter.ipynb)\n",
    "\n",
    "[Chapter 2: Analysis of the Simplest Lowpass Filter](https://colab.research.google.com/github/khiner/notebooks/blob/master/introduction_to_digital_filters/chapter_2_matlab_analysis_of_the_simplest_lowpass_filter.ipynb)\n",
    "\n",
    "[Chapter 3: Analysis of a Digital Comb Filter](https://colab.research.google.com/github/khiner/notebooks/blob/master/introduction_to_digital_filters/chapter_3_analysis_of_a_digital_comb_filter.ipynb)\n",
    "\n",
    "[Chapter 4: Linear Time-Invariant Filters](https://colab.research.google.com/github/khiner/notebooks/blob/master/introduction_to_digital_filters/chapter_4_linear_time_invariant_filters.ipynb)\n",
    "\n",
    "[Chapter 5: Time Domain Representations](https://colab.research.google.com/github/khiner/notebooks/blob/master/introduction_to_digital_filters/chapter_5_time_domain_representations.ipynb)\n",
    "\n",
    "[Chapter 6: Transfer Function Analysis](https://colab.research.google.com/github/khiner/notebooks/blob/master/introduction_to_digital_filters/chapter_6_transfer_function_analysis.ipynb)\n",
    "\n",
    "[Chapter 7: Frequency Response Analysis](https://colab.research.google.com/github/khiner/notebooks/blob/master/introduction_to_digital_filters/chapter_7_frequency_response_analysis.ipynb)\n",
    "\n",
    "[Chapter 8: Pole-Zero Analysis](https://colab.research.google.com/github/khiner/notebooks/blob/master/introduction_to_digital_filters/chapter_8_pole_zero_analysis.ipynb)\n",
    "\n",
    "[Chapter 9: Implementation Structures](https://colab.research.google.com/github/khiner/notebooks/blob/master/introduction_to_digital_filters/chapter_9_implementation_structures.ipynb)\n",
    "\n",
    "[Chapters 10 & 11: Filters Preserving Phase and Minimum-Phase Filters](https://colab.research.google.com/github/khiner/notebooks/blob/master/introduction_to_digital_filters/chapters_10_11_filters_preserving_phase.ipynb)\n",
    "\n",
    "[Appendix B: Elementary Audio Digital Filters](https://colab.research.google.com/github/khiner/notebooks/blob/master/introduction_to_digital_filters/appendix_b_elementary_audio_digital_filters.ipynb)"
   ]
  }
 ],
 "metadata": {
  "kernelspec": {
   "display_name": "Python 3",
   "language": "python",
   "name": "python3"
  },
  "language_info": {
   "codemirror_mode": {
    "name": "ipython",
    "version": 3
   },
   "file_extension": ".py",
   "mimetype": "text/x-python",
   "name": "python",
   "nbconvert_exporter": "python",
   "pygments_lexer": "ipython3",
   "version": "3.7.3"
  }
 },
 "nbformat": 4,
 "nbformat_minor": 2
}

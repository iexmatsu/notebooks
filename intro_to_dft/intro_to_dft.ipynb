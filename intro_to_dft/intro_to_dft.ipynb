{
 "cells": [
  {
   "cell_type": "markdown",
   "metadata": {
    "slideshow": {
     "slide_type": "slide"
    }
   },
   "source": [
    "# Discrete Fourier Transform"
   ]
  },
  {
   "cell_type": "markdown",
   "metadata": {
    "slideshow": {
     "slide_type": "slide"
    }
   },
   "source": [
    "## What is the fourier transform?\n",
    "Every signal can be decomposed into a superposition of sinusoids. (A summed combination of shifted and scaled sinusoids).\n",
    "\n",
    "The **Discrete Fourier Transform (DFT)** is just the discrete version of this idea."
   ]
  },
  {
   "cell_type": "markdown",
   "metadata": {
    "slideshow": {
     "slide_type": "slide"
    }
   },
   "source": [
    "## Example: Support Volume"
   ]
  },
  {
   "cell_type": "code",
   "execution_count": null,
   "metadata": {
    "slideshow": {
     "slide_type": "skip"
    }
   },
   "outputs": [],
   "source": [
    "import pandas as pd\n",
    "from pandas.plotting import register_matplotlib_converters\n",
    "register_matplotlib_converters()\n",
    "\n",
    "import sys\n",
    "sys.path.append('../')\n",
    "sys.path.append('../musimathics')\n",
    "\n",
    "import numpy as np\n",
    "import matplotlib.pyplot as plt\n",
    "from matplotlib import animation, rc, patches\n",
    "import matplotlib.cm as cm\n",
    "import matplotlib.ticker as mtick\n",
    "\n",
    "from ipython_animation import create_animation, DEFAULT_FPS\n",
    "\n",
    "date_parser = lambda x: pd.datetime.strptime(x, '%Y-%m-%d %H:%M:%S+00')\n",
    "df = pd.read_csv('helpscout_conversations.csv', header=None, usecols=[0,10], names=['id', 'created_at'], date_parser=date_parser, index_col=['created_at'])\n",
    "df.sort_index(inplace=True)\n",
    "support_count_per_day = df.resample('D').apply('count').rename(columns={'id':'count'})\n",
    "# interpolate outliers to 1/2 between neighbors\n",
    "outlier_index = np.argwhere(support_count_per_day['count'].values > 2000)[0][0]\n",
    "support_count_per_day.iloc[outlier_index]['count'] = (support_count_per_day.iloc[outlier_index - 1]['count'] + support_count_per_day.iloc[outlier_index + 1]['count']) / 2"
   ]
  },
  {
   "cell_type": "code",
   "execution_count": null,
   "metadata": {},
   "outputs": [],
   "source": [
    "%matplotlib inline\n",
    "_ = np.seterr(divide='ignore')"
   ]
  },
  {
   "cell_type": "code",
   "execution_count": null,
   "metadata": {
    "slideshow": {
     "slide_type": "skip"
    }
   },
   "outputs": [],
   "source": [
    "# verify that the error is effectively 0 (we've exactly reproduced original time-domain signal from its frequency components!)\n",
    "def rmse(estimated, actual):\n",
    "    return np.sqrt(((estimated - actual) ** 2).sum() / actual.size)\n",
    "\n",
    "def formatted_rmse(estimated, actual):\n",
    "    return 'RMSE: {0:.3f}'.format(rmse(estimated, actual))"
   ]
  },
  {
   "cell_type": "code",
   "execution_count": null,
   "metadata": {
    "slideshow": {
     "slide_type": "skip"
    }
   },
   "outputs": [],
   "source": [
    "num_days = 30\n",
    "num_sine_components = 16\n",
    "\n",
    "support_counts = support_count_per_day[-num_days:]\n",
    "\n",
    "x = support_counts['count'].values\n",
    "N = len(x)\n",
    "hN = N // 2 + 1\n",
    "X = np.fft.rfft(x)\n",
    "ordered_X_indices = np.abs(X).argsort()[::-1]\n",
    "X_max = 2 * np.abs(X[1:]).max() / N\n",
    "k = np.arange(N)\n",
    "sample_rate_days = 1\n",
    "frequencies = ((sample_rate_days * k) / N)[:hN]\n",
    "period = (1 / frequencies)[1:]\n",
    "\n",
    "fig, axes = plt.subplots(3, 1, figsize=(12, 14))\n",
    "reconstruction_plot, sine_plot, X_plot = axes\n",
    "\n",
    "reconstruction_plot.set_title('Support Volume (per-day)')\n",
    "reconstruction_plot.set_xlabel('created_at day')\n",
    "reconstruction_plot.set_ylabel('Ticket count')\n",
    "actual_line, = reconstruction_plot.plot(support_counts.index, x)\n",
    "n_point_idft_line, = reconstruction_plot.plot(support_counts.index, x)\n",
    "nth_sinusoid_line, = sine_plot.plot(np.zeros(N))\n",
    "rmse_patch = patches.Patch(color='red')\n",
    "\n",
    "fig.suptitle('Reconstructing a signal with the DFT', size=16)\n",
    "\n",
    "sine_plot.set_title('nth Sinusoid')\n",
    "sine_plot.set_ylabel('Amplitude')\n",
    "\n",
    "period_axis = X_plot.twiny()\n",
    "X_plot.set_title('Spectrum')\n",
    "X_plot.set_xlabel('Frequency (1/days)')\n",
    "X_plot.set_ylabel('Magnitude')\n",
    "\n",
    "period_axis.set_xlabel('Period (days)')\n",
    "period_label_indices = np.round(np.linspace(0, len(period) - 1, num_sine_components)).astype(int)\n",
    "period_axis.set_xticks(np.arange(hN)[period_label_indices])\n",
    "period_axis.set_xlim(-1, len(period) - 1)\n",
    "period_axis.set_xticklabels('%0.2f' % p for p in period[period_label_indices])\n",
    "\n",
    "reconstruction_plot.set_xlim(support_counts.index.min(), support_counts.index.max())\n",
    "X_plot.set_xlim(frequencies[0], frequencies[-1])\n",
    "X_plot.set_ylim(0, np.abs(X[1:]).max() * 2.1 / N)\n",
    "sine_plot.set_xlim(0, N - 1)\n",
    "sine_plot.set_ylim(-X_max, X_max)\n",
    "\n",
    "plt.tight_layout()\n",
    "plt.subplots_adjust(top=0.92)\n",
    "\n",
    "reconstruction = np.zeros(N) # cumulatively add component sinusoids\n",
    "skip = True\n",
    "def animate_reconstruction(i):\n",
    "    global skip\n",
    "    global reconstruction\n",
    "    if skip: # frame 0 animates twice, so annoying\n",
    "        skip = False\n",
    "        return\n",
    "\n",
    "    X_index = ordered_X_indices[i]\n",
    "    X_value = X[X_index]\n",
    "    ith_sinusoid = np.abs(X_value) * np.cos(2 * np.pi * X_index * np.arange(0, N) / N + np.angle(X_value)) / N\n",
    "    if X_index != 0 and X_index != hN - 1: \n",
    "        # DFT is Hermitian-symmetric.\n",
    "        # We only count it twice if it's not the DC offset or the middle\n",
    "        ith_sinusoid *= 2\n",
    "\n",
    "    reconstruction += ith_sinusoid\n",
    "    n_point_idft_line.set_ydata(reconstruction)\n",
    "    nth_sinusoid_line.set_ydata(ith_sinusoid)\n",
    "\n",
    "    X_plot.vlines(x=frequencies[ordered_X_indices[:i+1]], ymin=0, ymax=np.abs(X[ordered_X_indices[:i+1]]) * 2 / N)\n",
    "\n",
    "    sine_plot.set_title('Sinusoid Component #%i' % (i + 1))\n",
    "    reconstruction_plot.legend(handles=[actual_line, n_point_idft_line, rmse_patch], \\\n",
    "               labels=['Actual', '{0:d}-point IDFT'.format(i + 1), formatted_rmse(reconstruction, x)], loc=3)"
   ]
  },
  {
   "cell_type": "code",
   "execution_count": null,
   "metadata": {
    "slideshow": {
     "slide_type": "slide"
    }
   },
   "outputs": [],
   "source": [
    "create_animation(fig, plt, animate_reconstruction, frames=num_sine_components, frames_per_second=1)"
   ]
  },
  {
   "cell_type": "markdown",
   "metadata": {
    "slideshow": {
     "slide_type": "slide"
    }
   },
   "source": [
    "## What assumptions does this model make?\n",
    "\n",
    "* The given signal can be decomposed into a sum of sinusoids with different phases and amplitudes\n",
    "* The given signal is exactly one period of an infinitely repeating periodic signal\n",
    "* The frequencies of the sinusoids making up the signal are exact multiples of the fundamental (lowest frequency)\n",
    "    - All energy is constrained to discrete \"bins\", so \"true\" frequencies between those bins get spread across nearby frequencies\n",
    "* The highest frequency in the data being sampled is at most $\\frac{\\text{sample_rate}}{2}$ (Nyquist frequency)"
   ]
  },
  {
   "cell_type": "markdown",
   "metadata": {
    "slideshow": {
     "slide_type": "slide"
    }
   },
   "source": [
    "## What is it good for?\n",
    "\n",
    "### Some applications\n",
    "* Image processing & compression (e.g. JPEG)\n",
    "* Audio/signal compression (e.g. MP3)\n",
    "* Convolution\n",
    "* Multiplication of polynomials and large integers\n",
    "* **Audio analysis/synthesis** _(audio is also at the root of the discovery of the DFT!)_"
   ]
  },
  {
   "cell_type": "markdown",
   "metadata": {
    "slideshow": {
     "slide_type": "slide"
    }
   },
   "source": [
    "# History\n",
    "\n",
    "(Main source: [Julius O. Smith's History of Virtual Musical Instruments based on Physical Modelling](https://www.youtube.com/watch?v=I64y40EIPaM&t=1362s))\n",
    "\n",
    "## Strings\n",
    "\n",
    "### Martin Mersenne (1636)\n",
    "> [Since the vibrating string] produces five or six tones..., it seems that it is entirely necessary that it beat the air five, four, three and two times at the same time, which is impossible to imagine unless one says that half of the string beats the air twice, one third beats it three times, etc. while the whole string beats it once. This picture runs against experience, which clearly shows that all parts of the string make the same number of returns in the same time, because the continuous string has a single motion, even though parts near the bridge move more slowly."
   ]
  },
  {
   "cell_type": "code",
   "execution_count": null,
   "metadata": {
    "slideshow": {
     "slide_type": "slide"
    }
   },
   "outputs": [],
   "source": [
    "from IPython.display import YouTubeVideo\n",
    "YouTubeVideo('Qr_rxqwc1jE')"
   ]
  },
  {
   "cell_type": "markdown",
   "metadata": {
    "slideshow": {
     "slide_type": "slide"
    }
   },
   "source": [
    "### Joseph Sauveur (1701)\n",
    "> While meditating on the phenomena of sound, I was made to observe that especially at night one may hear from long strings not only the principal sound, but also other small sounds, a twelfth and a seventeenth above... I concluded that the string in addition to the undulations it makes in its entire length so as to form the fundamental sound may divide itself in two, three, four, etc. undulations which form the octave, the twelfth, the fifteenth of this sound."
   ]
  },
  {
   "cell_type": "markdown",
   "metadata": {
    "slideshow": {
     "slide_type": "slide"
    }
   },
   "source": [
    "Sauveur plucked a monochord having a light obstacle mounted to create \"nodes\", and was surprised that the string did not move at the nodal points.\n",
    "\n",
    "![](https://i.stack.imgur.com/pA0iS.jpg)\n",
    "\n",
    "Sauveur coined the term _**node**_, and the term _**harmonic**_, so named because they are \"harmonious\" with the fundamental."
   ]
  },
  {
   "cell_type": "markdown",
   "metadata": {
    "slideshow": {
     "slide_type": "slide"
    }
   },
   "source": [
    "### Brook Taylor (1713)\n",
    "* First to derive the string fundamental frequency,  \n",
    "  $f = \\frac{\\sqrt{K / \\epsilon}}{2L}$,  \n",
    "  where $K$ = string tension, $\\epsilon$ = mass density, $L$ = string length\n",
    "* Derived that the string restoring force is proportional to the string _curvature_\n",
    "* (Wrongly) concluded that even though many _initial_ shapes were clearly possible, the vibration would quickly transition to a sinusoidal shape (only the funcamental mode vibration was supported)"
   ]
  },
  {
   "cell_type": "markdown",
   "metadata": {
    "slideshow": {
     "slide_type": "slide"
    }
   },
   "source": [
    "### Jean-Phillippe Rameau (1726)\n",
    "\n",
    "* Rameau was a composer interested in studying harmonic overtones to establish a more scientific foundation for music theory\n",
    "* Anticipated a kind of spectrum analyzer theory of hearing:\n",
    "> What has been said of [the separate vibrating modes of] sonorous bodies should be applied equally to the fibers which carpet the bottom of the ear's cochlea; these fibers are so many sonorous bodies, to which the air transmits its vibrations, and from which the perception of sounds and harmony is carried to the soul\n",
    "Thus, Rameau regarded the hair cells as a bank of little sympathetic resonators."
   ]
  },
  {
   "cell_type": "markdown",
   "metadata": {
    "slideshow": {
     "slide_type": "slide"
    }
   },
   "source": [
    "### Daniel Bernoulli (1733)\n",
    "\n",
    "* Studied the vertically suspended chain\n",
    "* Observed multiple modes of vibration (as many as there were masses), and their inharmonicity\n",
    "* Realized that the infinitely long chain was equivalent to an infinitely long musical string\n",
    "* Later studied elastic bands\n",
    "> Both sounds exist at once and are very distinctly perceived. ... This is no wonder, since neither oscillation helps or hinders the other; indeed, when the band is curved by reason of one oscillation, it may always be considered as straight in respect to another oscillation, since the oscillations are virtually infinitely small. Therefore oscillations of any kind may occur, whether the band be destitute of all other oscillation or executing others at the same time. In free bands, ... I have often perceived three or four sounds at the same time.\n",
    "* _**Superposition**_ of small vibrations at different frequencies clearly conceived"
   ]
  },
  {
   "cell_type": "markdown",
   "metadata": {
    "slideshow": {
     "slide_type": "slide"
    }
   },
   "source": [
    "### Jean La Rond D'Alembert (1746)\n",
    "\n",
    "* invented the partial differential equation (PDE) by plugging Taylor's resoring force $f$ into Newton's $f = ma$ writting as a _differential form_ (as developed by Euler)\n",
    "* Showed that any solution was a _traveling wave_ to left and/or right\n",
    "* Showed that Taylor's sinusoidal fundamental mode was a special case solution\n",
    "* Disagreed with Taylor that all initial conditions lead to a single sinusoid\n",
    "* Did not allow an initial triangular shape (not twice differentiable), and suggested using a beaded string for this case"
   ]
  },
  {
   "cell_type": "markdown",
   "metadata": {
    "slideshow": {
     "slide_type": "slide"
    }
   },
   "source": [
    "### Leonard Euler (1749)\n",
    "\n",
    "* Quickly generalized d'Alembert's results to any initial string shape\n",
    "* Showed that the solution space included sums of sines:  \n",
    "$y(x,t) = \\sum\\limits_{k}{A_k\\sin(k\\pi x/L)\\cos(k \\pi f_0 t})$  \n",
    "(displacement of length $L$ vibrating string at time $t$, position $x$)  \n",
    "[This gets us a long way!](https://karlhiner.com/processing/string_pluck)\n",
    "* He did not consider this a general solution (one \"obviously\" couldn't make a triangular initial shape out of sines)\n",
    "* Fourier wasn't born yet!"
   ]
  },
  {
   "cell_type": "code",
   "execution_count": null,
   "metadata": {
    "slideshow": {
     "slide_type": "skip"
    }
   },
   "outputs": [],
   "source": [
    "def nth_harmonic(x, n):\n",
    "    fft = np.fft.fft(x)\n",
    "    fft[n + 1:] = 0\n",
    "    return np.fft.ifft(fft).real\n",
    "\n",
    "N = 100\n",
    "def animate_harmonics(i):\n",
    "    position = np.clip(i, 1, N - 1)\n",
    "    x = np.concatenate([np.linspace(0, 1, position, False), np.linspace(1, 0, N - position)])\n",
    "    x = np.concatenate([x, -x[::-1][1:]])\n",
    "    K = 10\n",
    "    harmonics = np.array([nth_harmonic(x, n) for n in range(K)]).T\n",
    "    plt.cla()\n",
    "    plt.plot(harmonics)\n",
    "    plt.plot(x, label='Target \"pluck\" shape')\n",
    "    plt.plot(2 * harmonics.sum(axis=1) / K, label='Approximation from sum of {%i} harmonics' % K)\n",
    "    plt.xlabel('position along string')\n",
    "    plt.ylabel('displacement')"
   ]
  },
  {
   "cell_type": "code",
   "execution_count": null,
   "metadata": {
    "slideshow": {
     "slide_type": "slide"
    }
   },
   "outputs": [],
   "source": [
    "fig = plt.figure(figsize=(16, 5))\n",
    "create_animation(fig, plt, animate_harmonics, frames=N - 2, default_mode='reflect')"
   ]
  },
  {
   "cell_type": "code",
   "execution_count": null,
   "metadata": {
    "slideshow": {
     "slide_type": "skip"
    }
   },
   "outputs": [],
   "source": [
    "from mpl_toolkits.mplot3d.axes3d import Axes3D\n",
    "# Bessel functions and their roots (zero crossings)\n",
    "from scipy.special import jn, jn_zeros\n",
    "\n",
    "# rows correspond to root number\n",
    "# columns correspond to Bessel order\n",
    "# (e.g. 2nd row, 1st column == 2nd root of 0-order Bessel function == \"Mode 02\")\n",
    "fig = plt.figure(figsize=(12, 8))\n",
    "\n",
    "bessel_order_max = 4\n",
    "bessel_root_max = 3\n",
    "\n",
    "axes = []\n",
    "for x in range(bessel_order_max):\n",
    "    axes.append([])\n",
    "    for y in range(bessel_root_max):\n",
    "        axes[x].append(fig.add_subplot(bessel_root_max, bessel_order_max, y * 4 + x + 1, projection='3d'))\n",
    "\n",
    "dim = 50\n",
    "r, phi = np.meshgrid(np.linspace(0, 1, dim), np.linspace(0, 2 * np.pi, dim))\n",
    "x, y = r * np.cos(phi), r * np.sin(phi)\n",
    "\n",
    "bessel_roots = np.array([jn_zeros(bessel_order, bessel_root_max) for bessel_order in range(bessel_order_max)])\n",
    "\n",
    "jns = np.ndarray((bessel_order_max, bessel_root_max, dim, dim))\n",
    "for m in range(bessel_order_max):\n",
    "    for n in range(bessel_root_max):\n",
    "        jns[m][n] = jn(m, bessel_roots[m, n] * r) * np.cos(m * phi)\n",
    "\n",
    "num_frames = 20\n",
    "\n",
    "def animate_drum_modes(i):\n",
    "    t = 2 * np.pi * i / num_frames\n",
    "    for m in range(bessel_order_max):\n",
    "        for n in range(bessel_root_max):\n",
    "            z = jns[m,n] * np.sin(t)\n",
    "            ax = axes[m][n]\n",
    "            ax.cla()\n",
    "            plot = ax.plot_surface(x, y, z, cmap='jet', vmin=-1, vmax=1)\n",
    "            ax.set_zlim(-1, 1)\n",
    "            ax.set_title('Mode %i%i' % (m, n + 1))\n",
    "            ax.set_xticks([], [])\n",
    "            ax.set_yticks([], [])\n",
    "            ax.set_zticks([], [])"
   ]
  },
  {
   "cell_type": "code",
   "execution_count": null,
   "metadata": {
    "slideshow": {
     "slide_type": "slide"
    }
   },
   "outputs": [],
   "source": [
    "create_animation(fig, plt, animate_drum_modes, frames=num_frames, frames_per_second=DEFAULT_FPS / 2)"
   ]
  },
  {
   "cell_type": "markdown",
   "metadata": {
    "slideshow": {
     "slide_type": "slide"
    }
   },
   "source": [
    "### Back to Daniel Bernoulli (1753)\n",
    "\n",
    "Bernoulli was annoyed with d'Alembert and Euler\n",
    "\n",
    "* He had published the superposition-of-sinusoids solution long ago\n",
    "* The supposedly new solutions of d'Alembert and Euler were simply a mixture of simple modes\n",
    "* He didn't like fusing the simple pure oscillations into a single formula\n",
    "* Considered his \"physical\" analysis preferable to their abstract math\n",
    "\n",
    "> I saw at once that one could admit this multitude of sine curves only in a sense altogether _improper_. I do not less admire the calculations of Messrs. d'Alembert and Euler, which certainly include what is most profound and most advanced in all of analysis, but which show at the same time that an abstract analysis, if heeded without any synthetic [physical] examination of the question proposed, is more likely to surprise than enlighten. It seems to me that giving attention to the nature of the vibrations of strings suffices to foresee without any calculation at all what these great geometers have found by the most difficult and abstract calculations that the analytic mind has yet conceived."
   ]
  },
  {
   "cell_type": "markdown",
   "metadata": {
    "slideshow": {
     "slide_type": "slide"
    }
   },
   "source": [
    "# The DFT as a model for audio\n",
    "\n",
    "The DFT is an effective model for audio because the sources of most audio are combinations of driven harmonic oscillators."
   ]
  },
  {
   "cell_type": "markdown",
   "metadata": {
    "slideshow": {
     "slide_type": "slide"
    }
   },
   "source": [
    "# Physical Basis of Sound\n",
    "\n",
    "## Longitudinal wave propagation\n",
    "\n",
    "The following is a visualization (based on a [Mathematica notebook by Mats Bengtsson](http://library.wolfram.com/infocenter/MathSource/780/)) of the way sound waves propagate as longitudinal waves through a medium.  Notice that each particle only moves back and forth, but their collective movement creates an emergent wave with its own measurable characteristics.\n",
    "\n",
    "The particle movements are the only thing being explicitly modelled here.  All other charts are derived from _empirical measurements_ of these virtual particles.  The units and magnitude aren't to be taken too seriously in this example."
   ]
  },
  {
   "cell_type": "code",
   "execution_count": null,
   "metadata": {
    "slideshow": {
     "slide_type": "skip"
    }
   },
   "outputs": [],
   "source": [
    "def displace_coordinates(coordinates, t):\n",
    "    return np.maximum(0, coordinates + amplitude * np.sin(wave_constant * coordinates - angular_frequency * t))"
   ]
  },
  {
   "cell_type": "code",
   "execution_count": null,
   "metadata": {
    "slideshow": {
     "slide_type": "skip"
    }
   },
   "outputs": [],
   "source": [
    "animation_length_seconds = 3\n",
    "num_frames = DEFAULT_FPS * animation_length_seconds\n",
    "\n",
    "num_atoms = 2400\n",
    "tube_length = 100\n",
    "tube_width = 20\n",
    "wave_length = tube_length / 5\n",
    "wave_constant = 2 * np.pi / wave_length\n",
    "amplitude = 0.10 * wave_length\n",
    "angular_frequency = 4 * np.pi\n",
    "\n",
    "pressure_line_displacement = tube_length / 2\n",
    "\n",
    "atom_coordinates = np.random.rand(num_atoms, 2) * (tube_length, tube_width)\n",
    "atom_coordinates = atom_coordinates[atom_coordinates[:,0].argsort()]\n",
    "total_pressure_values = np.zeros(num_frames)\n",
    "old_coords = atom_coordinates.copy()\n",
    "new_coords = atom_coordinates.copy()\n",
    "diffs = np.zeros(old_coords.shape)\n",
    "\n",
    "fig, axes = plt.subplots(5, 1, figsize=(12, 20))\n",
    "fig.suptitle('Longitudinal Waves', size=16)\n",
    "\n",
    "displacements_plot = axes[0]\n",
    "density_plot = axes[1]\n",
    "velocity_plot = axes[2]\n",
    "total_velocity_plot = axes[3]\n",
    "pressure_plot = axes[4]\n",
    "\n",
    "displacements_plot.set_title('Particle displacements')\n",
    "displacements_plot.set_xlabel('Displacement x (m)')\n",
    "displacements_plot.set_ylabel('Displacement y (m)')\n",
    "displacements_plot.set_xlim([0, tube_length])\n",
    "displacements_plot.set_ylim([0, tube_width])\n",
    "\n",
    "# highlight a few points on the scatter plot\n",
    "highlight_points = np.random.randint(0, num_atoms, 5)\n",
    "colors = np.full(num_atoms, 'black')\n",
    "sizes = np.full(num_atoms, 3)\n",
    "colors[highlight_points] = 'r'\n",
    "sizes[highlight_points] = 30\n",
    "scatter = displacements_plot.scatter(atom_coordinates[:,0], atom_coordinates[:,1], s=sizes, c=colors)\n",
    "\n",
    "def animate_longitudinal_wave(i):\n",
    "    old_coords[:,0] = displace_coordinates(atom_coordinates[:,0], 0) if i == 0 else new_coords[:,0]\n",
    "    new_coords[:,0] = displace_coordinates(atom_coordinates[:,0], (i + 1) / num_frames)\n",
    "    diffs[:] = new_coords - old_coords\n",
    "    \n",
    "    crossing_indices = np.where((new_coords[:,0] >= pressure_line_displacement - 4) & (new_coords[:,0] <= pressure_line_displacement + 4))\n",
    "    crossing_diffs = diffs[crossing_indices]\n",
    "    crossing_diff_magnitudes = np.linalg.norm(crossing_diffs, axis=1)\n",
    "    total_pressure_values[i] = crossing_diffs[:,0].sum()\n",
    "\n",
    "    scatter.set_offsets(new_coords)\n",
    "\n",
    "    density_plot.cla()\n",
    "    density_plot.hist(new_coords[:,0], bins=200)\n",
    "    density_plot.set_title('Density')\n",
    "    density_plot.set_xlabel('Displacement x (m)')\n",
    "    density_plot.set_ylabel('Linear Density ($m^{-1}$)')\n",
    "    density_plot.set_xlim([0, tube_length])\n",
    "    density_plot.set_ylim([0, 50])\n",
    "\n",
    "    colors = np.arctan2(diffs[:, 0], diffs[:, 1]) * np.linalg.norm(diffs, axis=1)\n",
    "    colors /= colors.max()\n",
    "    velocity_plot.cla()\n",
    "    velocity_plot.quiver(new_coords[:, 0], new_coords[:, 1], diffs[:, 0], diffs[:, 1], color=cm.coolwarm(colors), pivot='mid')\n",
    "    velocity_plot.axvline(x=pressure_line_displacement, linewidth=4, color='g', label='Measurement area')\n",
    "    velocity_plot.set_title('Particle displacements with velocity')\n",
    "    velocity_plot.set_xlabel('Displacement x (m)')\n",
    "    velocity_plot.set_ylabel('Displacement y (m)')\n",
    "    velocity_plot.set_xlim([0, tube_length])\n",
    "\n",
    "    total_velocity_plot.cla()\n",
    "    total_velocity_plot.plot(new_coords[:,0], diffs[:,0])\n",
    "    total_velocity_plot.set_title('Total velocity at displacement')\n",
    "    total_velocity_plot.set_xlabel('Displacement x (m)')\n",
    "    total_velocity_plot.set_ylabel('Displacement y (m)')\n",
    "    total_velocity_plot.set_xlim([0, tube_length])\n",
    "\n",
    "    pressure_plot.cla()\n",
    "    pressure_plot.plot(total_pressure_values[1:i], c='g')\n",
    "    pressure_plot.set_title('Approx. pressure on green line above')\n",
    "    pressure_plot.set_xlabel('Time')\n",
    "    pressure_plot.set_ylabel('Sound Pressure Level (SPL)')\n",
    "    pressure_plot.set_xlim([0, num_frames - 1])\n",
    "    pressure_plot.yaxis.set_ticks([])\n",
    "\n",
    "    fig.tight_layout()\n",
    "    fig.subplots_adjust(top=0.95)"
   ]
  },
  {
   "cell_type": "code",
   "execution_count": null,
   "metadata": {
    "slideshow": {
     "slide_type": "slide"
    }
   },
   "outputs": [],
   "source": [
    "create_animation(fig, plt, animate_longitudinal_wave, length_seconds=animation_length_seconds)"
   ]
  },
  {
   "cell_type": "code",
   "execution_count": null,
   "metadata": {
    "slideshow": {
     "slide_type": "skip"
    }
   },
   "outputs": [],
   "source": [
    "def cartesian_to_polar(a):\n",
    "    return np.array([np.arctan2(a[:,0], a[:,1]), np.linalg.norm(a, axis=1)]).T\n",
    "\n",
    "def polar_to_cartesian(a):\n",
    "    return np.array([a[:,1] * np.cos(a[:,0]), a[:,1] * np.sin(a[:,0])]).T"
   ]
  },
  {
   "cell_type": "code",
   "execution_count": null,
   "metadata": {
    "slideshow": {
     "slide_type": "skip"
    }
   },
   "outputs": [],
   "source": [
    "np.random.seed(1234)\n",
    "\n",
    "num_atoms = 6000\n",
    "cyl_radius = 20\n",
    "wave_length = cyl_radius / 8\n",
    "wave_constant = 2 * np.pi / wave_length\n",
    "amplitude = 0.10 * wave_length\n",
    "\n",
    "pressure_line_displacements = [2 * cyl_radius / 6, 7 * cyl_radius / 8]\n",
    "pressure_line_colors = ['orange', 'g']\n",
    "total_pressure_values = [np.zeros(num_frames), np.zeros(num_frames)]\n",
    "\n",
    "atom_coordinates = np.random.rand(num_atoms, 2) * 2 * cyl_radius - cyl_radius\n",
    "polar_coords = cartesian_to_polar(atom_coordinates)\n",
    "old_polar_coords = polar_coords.copy()\n",
    "new_polar_coords = polar_coords.copy()\n",
    "new_coords = atom_coordinates.copy()\n",
    "old_coords = atom_coordinates.copy()\n",
    "diffs = np.zeros(old_coords.shape)\n",
    "\n",
    "fig, axes = plt.subplots(4, 1, figsize=(10, 24), gridspec_kw={'height_ratios':[3/8,3/8,1/8,1/8]})\n",
    "fig.suptitle('Waves from Point Source', size=16)\n",
    "\n",
    "displacements_plot = axes[0]\n",
    "density_plot = axes[1]\n",
    "\n",
    "displacements_plot.set_title('Particle displacements')\n",
    "displacements_plot.set_xlabel('Displacement x (m)')\n",
    "displacements_plot.set_ylabel('Displacement y (m)')\n",
    "displacements_plot.set_xlim([-cyl_radius, cyl_radius])\n",
    "displacements_plot.set_ylim([-cyl_radius, cyl_radius])\n",
    "\n",
    "# highlight a few points on the scatter plot\n",
    "highlight_points = np.random.randint(0, num_atoms, 5)\n",
    "colors = np.full(num_atoms, 'black')\n",
    "sizes = np.full(num_atoms, 3)\n",
    "colors[highlight_points] = 'r'\n",
    "sizes[highlight_points] = 30\n",
    "scatter = displacements_plot.scatter(atom_coordinates[:,0], atom_coordinates[:,1], s=sizes, c=colors)\n",
    "\n",
    "def animate_circular_wave(i):\n",
    "    old_polar_coords[:,1] = displace_coordinates(polar_coords[:,1], 0) if i == 0 else new_polar_coords[:,1]\n",
    "    new_polar_coords[:,1] = displace_coordinates(polar_coords[:,1], (i + 1) / num_frames)\n",
    "\n",
    "    old_coords[:] = polar_to_cartesian(old_polar_coords)\n",
    "    new_coords[:] = polar_to_cartesian(new_polar_coords)\n",
    "\n",
    "    scatter.set_offsets(new_coords)\n",
    "\n",
    "    diffs[:] = new_coords - old_coords\n",
    "\n",
    "    colors = np.arctan2(diffs[:, 0], diffs[:, 1]) * np.linalg.norm(diffs, axis=1)\n",
    "    colors /= colors.max()\n",
    "    density_plot.cla()\n",
    "    density_plot.quiver(new_coords[:, 0], new_coords[:, 1], diffs[:, 0], diffs[:, 1], color=cm.coolwarm(colors), pivot='mid')\n",
    "    density_plot.set_title('Particle displacements with velocity')\n",
    "    density_plot.set_xlabel('Displacement x (m)')\n",
    "    density_plot.set_ylabel('Displacement y (m)')\n",
    "    density_plot.set_xlim([-cyl_radius, cyl_radius])\n",
    "    density_plot.set_ylim([-cyl_radius, cyl_radius])\n",
    "\n",
    "    for j, pressure_line_displacement in enumerate(pressure_line_displacements):\n",
    "        crossing_indices = np.where((new_coords[:,0] >= pressure_line_displacement - 8) & (new_coords[:,0] <= pressure_line_displacement + 8))\n",
    "        crossing_diffs = diffs[crossing_indices]\n",
    "        crossing_diff_magnitudes = np.linalg.norm(crossing_diffs, axis=1)\n",
    "        total_pressure_values[j][i] = crossing_diffs[:,0].sum()\n",
    "\n",
    "        density_plot.axvline(x=pressure_line_displacement, linewidth=4, color=pressure_line_colors[j], label='Measurement area')\n",
    "\n",
    "        pressure_ax = axes[2 + j]\n",
    "        pressure_ax.cla()\n",
    "        pressure_ax.plot(total_pressure_values[j][1:i], c=pressure_line_colors[j])\n",
    "        pressure_ax.set_title('Approx. pressure on ' + pressure_line_colors[j] + ' line above')\n",
    "        pressure_ax.set_xlabel('Time')\n",
    "        pressure_ax.set_ylabel('Sound Pressure Level (SPL)')\n",
    "        pressure_ax.set_xlim([0, num_frames - 1])\n",
    "        #pressure_ax.yaxis.set_ticks([])\n",
    "\n",
    "    #fig.tight_layout()\n",
    "    fig.subplots_adjust(top=0.95)"
   ]
  },
  {
   "cell_type": "code",
   "execution_count": null,
   "metadata": {
    "slideshow": {
     "slide_type": "slide"
    }
   },
   "outputs": [],
   "source": [
    "create_animation(fig, plt, animate_circular_wave, length_seconds=animation_length_seconds)"
   ]
  },
  {
   "cell_type": "markdown",
   "metadata": {
    "slideshow": {
     "slide_type": "slide"
    }
   },
   "source": [
    "# Psychoacoustic Basis of Sound\n",
    "\n",
    "The ear actually takes advantage of the sinusoidal nature of sound by implementing a kind of discrete fourier transform with the cochlea."
   ]
  },
  {
   "cell_type": "markdown",
   "metadata": {},
   "source": [
    "## Critical Bands\n",
    "\n",
    "![](https://cdn.britannica.com/s:700x450/04/14304-004-6C1B7EB1.jpg)\n",
    "![](https://cdn.britannica.com/s:700x450/98/14298-004-99934987.jpg)"
   ]
  },
  {
   "cell_type": "markdown",
   "metadata": {
    "slideshow": {
     "slide_type": "slide"
    }
   },
   "source": [
    "Zwicker and Feldtkeller (1955) played a narrowband noise signal containing all frequencies between 980 to 1020 Hz. The bandwidth of the signal was 40 Hz, and its band center was 1000 Hz. Then, keeping the band center at 1000 Hz, and keeping the total intensity constant, they gradually increased the bandwidth, spreading the same energy over a larger and larger frequency range.\n",
    "\n",
    "Subjects reported that the loudness remained constant... but only up to a certain bandwidth, after which perceived loudness began to increase _even though there was no increase in total energy_. With the band center at 1 kHz, loudness began to increase when the bandwidth exceeded about 160 Hz.\n",
    "\n",
    "It is hypothesized that areas of the basilar membrane respond together to selected frequency ranges - the critical bands.\n",
    "\n",
    "**This is an important concept and is used for compression in MPEG/MP3 encoding.**"
   ]
  },
  {
   "cell_type": "code",
   "execution_count": null,
   "metadata": {
    "slideshow": {
     "slide_type": "slide"
    }
   },
   "outputs": [],
   "source": [
    "from NoteSequence import render_samples_ipython\n",
    "from generators import band_limited_noise\n",
    "from conversion import SAMPLES_PER_SECOND\n",
    "\n",
    "band_center_hz = 1_000\n",
    "band_widths_hz = [32 + 2 ** i for i in range(3, 12)]\n",
    "# The last band width is not really symmetric since anything below ~28hz will not contribute to the perceived power, but since this last band bump still ~close~ to doubles the number of new frequencies, its percieved loudness will still increase roughly proportionally.\n",
    "\n",
    "band_limited_white_noise_signals = [band_limited_noise(band_center_hz - band_width_hz / 2, band_center_hz + band_width_hz / 2, SAMPLES_PER_SECOND * 2) for band_width_hz in band_widths_hz]\n",
    "from scipy.signal import periodogram\n",
    "\n",
    "for noise_signal in band_limited_white_noise_signals:\n",
    "    f, Pxx_den = periodogram(noise_signal, SAMPLES_PER_SECOND)\n",
    "    plt.semilogy(f, Pxx_den)\n",
    "    plt.xlabel('frequency [Hz]')\n",
    "    plt.xlim([band_center_hz - max(band_widths_hz) / 2 - 10, band_center_hz + max(band_widths_hz) / 2 + 10])\n",
    "    plt.ylim([1e-9, 1e-6])\n",
    "    plt.ylabel('PSD [V**2/Hz]')\n",
    "\n",
    "# prevent clicks\n",
    "ramp_samples = int(SAMPLES_PER_SECOND * 0.025)\n",
    "for noise_signal in band_limited_white_noise_signals:\n",
    "    noise_signal[:ramp_samples] *= np.linspace(0, 1, ramp_samples)\n",
    "    noise_signal[-ramp_samples:] *= np.linspace(1, 0, ramp_samples)\n",
    "\n",
    "render_samples_ipython(np.concatenate([noise_signal for noise_signal in band_limited_white_noise_signals]))"
   ]
  },
  {
   "cell_type": "markdown",
   "metadata": {
    "slideshow": {
     "slide_type": "slide"
    }
   },
   "source": [
    "# Digital Signals and Sampling\n",
    "\n",
    "### Nyquist Sampling Theorem (Aliasing)\n",
    "\n",
    "Nyquist's theorem states that the apparant frequency $f_a$ of continuous frequency $f$ sampled at frequency $f_s$ can be expressed as\n",
    "\n",
    "$f_a = f - \\lfloor \\frac{f}{f_s} + \\frac{1}{2} \\rfloor f_s$\n",
    "\n",
    "To see why, consider this animation, where the cycle on the left is sampled and stored in the cycle on the right.\n",
    "\n",
    "The apparent and actual frequncies are charted below.  You can see that the apparent frequency is limited by $\\frac{+}{-}\\frac{f_s}{2}$.  That is, it's limited to $1/2$ of the sampling frequency.\n",
    "\n",
    "_Notice that the times when apparent frequency is 0 are the times when the orange spinning line on the right appears to change direction from clockwise (negative) to counterclockwise (positive) motion._\n",
    "\n",
    "There is a meta-sampling thing happening here, too! Since the blue \"continuous\" line is sampled at the animation's frame rate 40 FPS, when the blue line spins at $\\frac{\\text{FPS}}{2} = 20 Hz$ we see a distinct change in direction.  (This crossing point is shown in the second chart.)"
   ]
  },
  {
   "cell_type": "code",
   "execution_count": null,
   "metadata": {
    "slideshow": {
     "slide_type": "skip"
    }
   },
   "outputs": [],
   "source": [
    "def apparent_frequency(f, f_s):\n",
    "    return (f - np.floor(f / f_s + 0.5) * f_s)"
   ]
  },
  {
   "cell_type": "code",
   "execution_count": null,
   "metadata": {
    "slideshow": {
     "slide_type": "skip"
    }
   },
   "outputs": [],
   "source": [
    "import sys\n",
    "sys.path.append('../')\n",
    "sys.path.append('../../')\n",
    "\n",
    "from ipython_animation import create_animation\n",
    "import matplotlib.pyplot as plt\n",
    "\n",
    "%matplotlib inline\n",
    "\n",
    "animation_length_seconds = 16\n",
    "frames_per_second = 40\n",
    "num_frames = animation_length_seconds * frames_per_second\n",
    "\n",
    "continuous_coordinates = np.zeros((2, 2))\n",
    "sampled_coordinates = np.zeros((2, 2))\n",
    "\n",
    "continuous_coordinates[0,0] = -1\n",
    "sampled_coordinates[0,0] = 1\n",
    "\n",
    "fig = plt.figure(figsize=(10, 16))\n",
    "plt.subplot(311)\n",
    "continuous_line, = plt.plot(continuous_coordinates[0,:], continuous_coordinates[1,:], linewidth=4, label='Continuous signal')\n",
    "sampled_line, = plt.plot(sampled_coordinates[0,:], sampled_coordinates[1,:], linewidth=4, label='Sampled signal')\n",
    "plt.xlim(-2.1, 2.1)\n",
    "plt.ylim(-1, 1)\n",
    "plt.legend(loc='upper center')\n",
    "\n",
    "f_s = 8\n",
    "sample_frames = int(frames_per_second / f_s)\n",
    "f_velocity = 1.5 / frames_per_second\n",
    "\n",
    "plt.subplot(312)\n",
    "plt.title('Apparent Frequency')\n",
    "\n",
    "t_range = np.arange(num_frames, dtype='int')\n",
    "f_history = np.ma.zeros(num_frames)\n",
    "f_a_history = np.ma.zeros(num_frames)\n",
    "\n",
    "f_line, = plt.plot(f_history, label='$f$')\n",
    "f_a_line, = plt.plot(f_a_history, label='$f_a$')\n",
    "plt.hlines(y=f_s / 2, xmin=0, xmax=num_frames, label='$\\\\frac{1}{2}$ sample rate ($f_s$)', color='r')\n",
    "plt.hlines(y=frames_per_second / 2, xmin=0, xmax=num_frames, label='$\\\\frac{1}{2}$ animation FPS')\n",
    "plt.legend(loc='upper left')\n",
    "\n",
    "plt.ylim(-f_s / 2 - 0.1, f_velocity * num_frames + 0.1)\n",
    "\n",
    "plt.subplot(313)\n",
    "plt.title('Position')\n",
    "pos_history = np.full(num_frames, np.nan)\n",
    "sample_pos_history = np.full(num_frames, np.nan)\n",
    "pos_line, = plt.plot(pos_history, label='actual')\n",
    "sample_pos_line, = plt.plot(sample_pos_history, label='sample', marker='o', linewidth=3, markevery=sample_frames)\n",
    "plt.xlim(0, num_frames)\n",
    "plt.ylim(-1.1, 1.1)\n",
    "plt.legend(loc='upper left')\n",
    "\n",
    "theta_mutable = [0]\n",
    "\n",
    "def animate_nyquist(i):\n",
    "    f = i * f_velocity\n",
    "    f_history[i] = f\n",
    "    f_a_history[i] = apparent_frequency(f, f_s)\n",
    "    theta_mutable[0] += 2 * np.pi * f * (1 / frames_per_second)\n",
    "    theta = theta_mutable[0]\n",
    "    coordinates = [np.cos(theta), np.sin(theta)]\n",
    "    continuous_coordinates[:,1] = continuous_coordinates[:,0] + coordinates\n",
    "    pos_history[i] = coordinates[0]\n",
    "\n",
    "    if i % sample_frames == 0:\n",
    "        sampled_coordinates[:,1] = sampled_coordinates[:,0] + coordinates\n",
    "        if i == 0:\n",
    "            sample_pos_history[i] = pos_history[i]\n",
    "        else:\n",
    "            sample_pos_history[i - sample_frames:i + 1] = np.linspace(pos_history[i - sample_frames], pos_history[i], sample_frames + 1)\n",
    "    continuous_line.set_data([continuous_coordinates[0,:], continuous_coordinates[1,:]])\n",
    "    sampled_line.set_data([sampled_coordinates[0,:], sampled_coordinates[1,:]])\n",
    "    f_line.set_ydata(np.ma.masked_where(t_range > i, f_history))\n",
    "    f_a_line.set_ydata(np.ma.masked_where(t_range > i, f_a_history))\n",
    "    \n",
    "    pos_line.set_ydata(pos_history)\n",
    "    sample_pos_line.set_ydata(sample_pos_history)"
   ]
  },
  {
   "cell_type": "code",
   "execution_count": null,
   "metadata": {
    "slideshow": {
     "slide_type": "slide"
    }
   },
   "outputs": [],
   "source": [
    "create_animation(fig, plt, animate_nyquist, length_seconds=animation_length_seconds, frames_per_second=frames_per_second)"
   ]
  },
  {
   "cell_type": "markdown",
   "metadata": {
    "slideshow": {
     "slide_type": "slide"
    }
   },
   "source": [
    "### Consequences of aliasing\n",
    "\n",
    "Aliasing can cause distortion, since a low sample rate will not be able to represent high-frequency content.  For example, consider this synthesized violin tone with the following harmonics (from p17):"
   ]
  },
  {
   "cell_type": "code",
   "execution_count": null,
   "metadata": {
    "slideshow": {
     "slide_type": "fragment"
    }
   },
   "outputs": [],
   "source": [
    "from NoteSequence import render_notes_ipython\n",
    "\n",
    "fundamental = 440\n",
    "violin_harmonics = [fundamental * i for i in range(1, 14)]\n",
    "violin_notes = [[(harmonic, 3, 1.0/(i + 1))] for i, harmonic in enumerate(violin_harmonics)]\n",
    "\n",
    "render_notes_ipython(violin_notes)"
   ]
  },
  {
   "cell_type": "code",
   "execution_count": null,
   "metadata": {
    "slideshow": {
     "slide_type": "fragment"
    }
   },
   "outputs": [],
   "source": [
    "sample_rate = 10_000\n",
    "violin_harmonics_aliased = [np.abs(apparent_frequency(harmonic, sample_rate)) for harmonic in violin_harmonics]\n",
    "print(violin_harmonics_aliased)\n",
    "violin_notes_aliased = [[(harmonic, 3, 1.0/(i + 1))] for i, harmonic in enumerate(violin_harmonics_aliased)]\n",
    "\n",
    "render_notes_ipython(violin_notes_aliased)"
   ]
  },
  {
   "cell_type": "markdown",
   "metadata": {
    "slideshow": {
     "slide_type": "fragment"
    }
   },
   "source": [
    "These frequencies are no longer integer multiples of the fundamental, and thus no longer harmonics."
   ]
  },
  {
   "cell_type": "markdown",
   "metadata": {
    "slideshow": {
     "slide_type": "slide"
    }
   },
   "source": [
    "## Constructing a Frequency Detector\n",
    "\n",
    "The fundamental insight of the Fourier transform is:\n",
    "\n",
    "_**The more positive the product signal is, the closer the source signals are to being identical.**_\n",
    "\n",
    "_**The more mixed positive and negative the product signal is, the less identical are the source signals.**_\n",
    "\n",
    "We can use this principle to test for a probe signal at every frequency multiple in a certain range:"
   ]
  },
  {
   "cell_type": "code",
   "execution_count": null,
   "metadata": {
    "slideshow": {
     "slide_type": "skip"
    }
   },
   "outputs": [],
   "source": [
    "from ipython_animation import create_animation, DEFAULT_FPS\n",
    "import matplotlib.cm as cm\n",
    "\n",
    "def create_dst_animation(test_signal, animation_length_seconds):\n",
    "    N = len(test_signal)\n",
    "    frequency_changing = 0.05\n",
    "    num_frames = animation_length_seconds * DEFAULT_FPS\n",
    "\n",
    "    fig = plt.figure(figsize=(10, 10))\n",
    "    probe_signal = np.sin(2 * np.pi * frequency_changing * np.linspace(0, 1, N))\n",
    "    product_plot = plt.subplot(311)\n",
    "    product_plot.set_title('Product of two sinusoid signals\\n(More positive product == closer to identical)', size=14)\n",
    "    test_line, = product_plot.plot(test_signal, linewidth=3, label='Test signal')\n",
    "    probe_line, = product_plot.plot(probe_signal, linewidth=3, label='Probe signal')\n",
    "    product_plot.legend(loc='upper right')\n",
    "    product_signal_plot = plt.subplot(312)\n",
    "    product_line, = product_signal_plot.plot(test_signal * probe_signal, linewidth=3)\n",
    "    product_signal_plot.set_ylim(-1.1, 1.1)\n",
    "    product_signal_plot.set_title('Product signal')\n",
    "\n",
    "    product_sum_plot = plt.subplot(313)\n",
    "    product_sums = np.array([np.arange(num_frames), np.zeros(num_frames)]).T\n",
    "    product_sum_colors = ['w'] * num_frames\n",
    "    product_sum_line = product_sum_plot.scatter(product_sums[:,0], product_sums[:,1], color=product_sum_colors, s=12)\n",
    "\n",
    "    product_sum_plot.set_ylim(-20, (test_signal ** 2).sum() + 5)\n",
    "    product_sum_plot.set_title('Product sum')\n",
    "    plt.tight_layout()\n",
    "\n",
    "    def animate(i):\n",
    "        probe_signal = np.sin(2 * np.pi * i * frequency_changing * np.linspace(0, 1, N))\n",
    "        probe_line.set_ydata(probe_signal)\n",
    "        product_signal = test_signal * probe_signal\n",
    "        product_line.set_ydata(product_signal)\n",
    "        product_sums[i,1] = product_signal.sum()\n",
    "        color = cm.coolwarm(product_sums[i,1] / (test_signal ** 2).sum())\n",
    "        product_sum_colors[i] = color\n",
    "        product_line.set_color(color)\n",
    "        product_sum_plot.set_title('Product sum = %0.01f' % product_signal.sum(), color=color)\n",
    "        product_sum_line.set_offsets(product_sums)\n",
    "        product_sum_line.set_color(product_sum_colors)\n",
    "\n",
    "    return create_animation(fig, plt, animate, length_seconds=animation_length_seconds)"
   ]
  },
  {
   "cell_type": "code",
   "execution_count": null,
   "metadata": {
    "slideshow": {
     "slide_type": "slide"
    }
   },
   "outputs": [],
   "source": [
    "N = 100\n",
    "frequency_stationary = 4\n",
    "test_signal = np.sin(2 * np.pi * frequency_stationary * np.linspace(0, 1, N))\n",
    "animation_length_seconds = 6\n",
    "\n",
    "create_dst_animation(test_signal, animation_length_seconds)"
   ]
  },
  {
   "cell_type": "markdown",
   "metadata": {
    "slideshow": {
     "slide_type": "subslide"
    }
   },
   "source": [
    "### _Side note:_ sinusoids at the same frequency\n",
    "\n",
    "An important property of sinusoids at a particular frequency is that they are _closed_ with respect to addition. In other words, if you take a sinusoid, make many copies of it, scale them all by different gains, delay them all by different time intervals, and add them up, you always get a sinusoid at the same original frequency."
   ]
  },
  {
   "cell_type": "code",
   "execution_count": null,
   "metadata": {
    "slideshow": {
     "slide_type": "fragment"
    }
   },
   "outputs": [],
   "source": [
    "import numpy as np\n",
    "import matplotlib.pyplot as plt\n",
    "%matplotlib inline\n",
    "\n",
    "num_sinusoids = 10\n",
    "amplitudes = np.random.rand(num_sinusoids) * 10\n",
    "phase_offsets = np.random.rand(num_sinusoids) * 2 * np.pi\n",
    "\n",
    "sinusoids = np.array([amplitudes[i] * np.sin(np.linspace(-2 * np.pi, 2 * np.pi, 100) + phase_offsets[i]) for i in range(num_sinusoids)])\n",
    "sum_of_sinusoids = np.sum(sinusoids, axis=0)\n",
    "\n",
    "plt.title('Sum of random scaled and delayed sinusoids\\nwith the same frequency')\n",
    "plt.plot(sinusoids.T)\n",
    "plt.plot(sum_of_sinusoids, linewidth=4, label='Sum of sinusoids')\n",
    "_ = plt.legend(loc='lower right')"
   ]
  },
  {
   "cell_type": "markdown",
   "metadata": {
    "slideshow": {
     "slide_type": "slide"
    }
   },
   "source": [
    "This animation basically _is_ the Discrete Fourier Transform! Well, it's close. We can call this the **Discrete Sine Transform (DST)**, since it tells us how much of a sine wave there is at any given frequency.\n",
    "\n",
    "BUT! This solution doesn't work well when we give it a signal that is out of phase with the sine wave. For example, let's try a simple sine wave with frequency $f = 2$, and see what happens as we change the phase $\\phi$ slowly from $0$ to $2\\pi$. In addition to our **DST** algorithm, let's also add a chart with a _**cosine**_ test signal (which we'll call the **Discrete Cosine Transform**:\n",
    "\n",
    "Neither of these functions is capable of detecting signals exactly out of phase with their \"probe\" signal - the DCT will detect no energy if fed a sine signal and the DST will not be able to detect a cosine signal."
   ]
  },
  {
   "cell_type": "code",
   "execution_count": null,
   "metadata": {
    "slideshow": {
     "slide_type": "subslide"
    }
   },
   "outputs": [],
   "source": [
    "def discrete_sine_transform(x, k):\n",
    "    N = len(x)\n",
    "    return (x * np.sin(k * 2 * np.pi * np.linspace(0, 1, N))).sum() / N\n",
    "\n",
    "def discrete_cosine_transform(x, k):\n",
    "    N = len(x)\n",
    "    return (x * np.cos(k * 2 * np.pi * np.linspace(0, 1, N))).sum() / N"
   ]
  },
  {
   "cell_type": "code",
   "execution_count": null,
   "metadata": {
    "slideshow": {
     "slide_type": "skip"
    }
   },
   "outputs": [],
   "source": [
    "frequency = 2\n",
    "\n",
    "fig, plots = plt.subplots(3, 1, figsize=(8, 10))\n",
    "signal_plot = plots[0]\n",
    "signal_line, = signal_plot.plot(np.zeros(N))\n",
    "signal_plot.set_xlim(0, N - 1)\n",
    "signal_plot.set_ylim(-1, 1)\n",
    "\n",
    "dst_plot = plots[1]\n",
    "dct_plot = plots[2]\n",
    "ks = np.arange(-3, 4)\n",
    "dct_scatter = dct_plot.scatter(ks, np.zeros(ks.size), c='black')\n",
    "dst_scatter = dst_plot.scatter(ks, np.zeros(ks.size), c='black')\n",
    "\n",
    "animation_length_seconds = 4\n",
    "num_frames = animation_length_seconds * DEFAULT_FPS\n",
    "\n",
    "def animate_dct_dst(i):\n",
    "    phase = 2 * np.pi * i / num_frames\n",
    "    x = np.sin(2 * np.pi * frequency * np.linspace(0, 1, N) + phase)\n",
    "    signal_line.set_ydata(x)\n",
    "    signal_plot.set_title('Test signal with $f = %i$ and $\\phi = %0.3f\\\\pi$' % (frequency, i / num_frames))\n",
    "    \n",
    "    for label in ['DST', 'DCT']:\n",
    "        plot = dct_plot if label == 'DCT' else dst_plot\n",
    "        scatter = dct_scatter if label == 'DCT' else dst_scatter\n",
    "        partial_dft_function = discrete_cosine_transform if label == 'DCT' else discrete_sine_transform\n",
    "        transform = np.array([partial_dft_function(x, k) for k in ks])\n",
    "        offsets = np.array([ks, transform]).T\n",
    "        scatter.set_offsets(offsets)\n",
    "        plot.set_xlim(-3, 3)\n",
    "        plot.set_ylim(-1, 1)\n",
    "        plot.set_xlabel('Frequency')\n",
    "        plot.set_ylabel('Magnitude')\n",
    "        plot.set_title(label)\n",
    "        plt.tight_layout()"
   ]
  },
  {
   "cell_type": "code",
   "execution_count": null,
   "metadata": {
    "slideshow": {
     "slide_type": "slide"
    }
   },
   "outputs": [],
   "source": [
    "create_animation(fig, plt, animate_dct_dst, length_seconds=animation_length_seconds)"
   ]
  },
  {
   "cell_type": "markdown",
   "metadata": {
    "slideshow": {
     "slide_type": "fragment"
    }
   },
   "source": [
    "Notice that when $\\phi = 0$ and the signal is a pure sine, the DST is at maximum energy and the DCT is at 0 energy, and vice versa for $\\phi = \\frac{\\pi}{4}$, when the signal is a pure cosine."
   ]
  },
  {
   "cell_type": "markdown",
   "metadata": {
    "slideshow": {
     "slide_type": "slide"
    }
   },
   "source": [
    "### Finding a Sinusoid from a Sum of Sine and Cosine\n",
    "\n",
    "We can combine the DST and the DCT two to detect the amplitude and phase of sinusoids with arbitrary phase.\n",
    "\n",
    "For any frequency $\\theta$ and phase $\\phi$,\n",
    "\n",
    "$A\\sin(\\theta + \\phi) = a\\cos\\theta+b\\sin\\theta$\n",
    "\n",
    "for suitable choices of $A$, $\\phi$, $a$, and $b$.\n",
    "\n",
    "The discrete cosine transform gives us the _even_ components of the spectrum ($a_k$), and the discrete sine transform gives us the _odd_ components of the spectrum ($b_k$).\n",
    "\n",
    "By the Pythagorian theorem, the amplitude of each component is\n",
    "\n",
    "$A(k) = \\sqrt{a^2_k + b^2_k}$.\n",
    "\n",
    "The phase of each component can be found with\n",
    "\n",
    "$\\phi(k) = \\tan^{-1}\\frac{b_k}{a_k}$."
   ]
  },
  {
   "cell_type": "code",
   "execution_count": null,
   "metadata": {
    "slideshow": {
     "slide_type": "subslide"
    }
   },
   "outputs": [],
   "source": [
    "# I am calling this \"inelegant DFT\" because it combines the DST and the DCT to\n",
    "# probe for sinusoids of arbitrary phase, even though there is a simpler way.\n",
    "def inelegant_dft(x, k):\n",
    "    dct = discrete_cosine_transform(x, k)\n",
    "    dst = discrete_sine_transform(x, k)\n",
    "    return np.sqrt(dct ** 2 + dst ** 2), np.arctan2(-dst, dct)"
   ]
  },
  {
   "cell_type": "code",
   "execution_count": null,
   "metadata": {
    "slideshow": {
     "slide_type": "skip"
    }
   },
   "outputs": [],
   "source": [
    "fig, plots = plt.subplots(3, 1, figsize=(8, 10))\n",
    "signal_plot = plots[0]\n",
    "signal_line, = signal_plot.plot(np.zeros(N))\n",
    "signal_plot.set_xlim(0, N - 1)\n",
    "signal_plot.set_ylim(-1, 1)\n",
    "\n",
    "mag_plot = plots[1]\n",
    "mag_plot.set_xlim(-3, 3)\n",
    "mag_plot.set_ylim(-1, 1)\n",
    "mag_plot.set_xlabel('Frequency')\n",
    "mag_plot.set_ylabel('Magnitude')\n",
    "mag_plot.set_title('Magnitude spectrum from combined DCT and DST')\n",
    "\n",
    "phase_plot = plots[2]\n",
    "phase_plot.set_title('Phase spectrum from combined DCT and DST')\n",
    "phase_plot.set_xlim(-3, 3)\n",
    "phase_plot.set_ylim(-2 * np.pi, 2 * np.pi)\n",
    "\n",
    "frequency = 2\n",
    "ks = np.arange(-3, 4)\n",
    "mag_scatter = mag_plot.scatter(ks, np.zeros(ks.size), c='black')\n",
    "phase_scatter = phase_plot.scatter(ks, np.zeros(ks.size), c='green')\n",
    "\n",
    "def animate_inelegant_dft(i):\n",
    "    phase = 2 * np.pi * i / num_frames\n",
    "    x = np.sin(2 * np.pi * frequency * np.linspace(0, 1, N) + phase)\n",
    "    signal_line.set_ydata(x)\n",
    "    signal_plot.set_title('Test signal with $f = %i$ and $\\phi = %0.3f\\\\pi$' % (frequency, i / num_frames))\n",
    "    transform = np.array([inelegant_dft(x, k) for k in ks])\n",
    "    mag_scatter.set_offsets(np.array([ks, transform[:,0]]).T)\n",
    "    phase_scatter.set_offsets(np.array([ks, transform[:,1]]).T)\n",
    "    plt.tight_layout()"
   ]
  },
  {
   "cell_type": "code",
   "execution_count": null,
   "metadata": {
    "slideshow": {
     "slide_type": "slide"
    }
   },
   "outputs": [],
   "source": [
    "create_animation(fig, plt, animate_inelegant_dft, length_seconds=animation_length_seconds)"
   ]
  },
  {
   "cell_type": "markdown",
   "metadata": {
    "slideshow": {
     "slide_type": "slide"
    }
   },
   "source": [
    "## Complex Harmonic Motion\n",
    "\n",
    "_We can simplify this greatly by using complex numbers!_\n",
    "\n",
    "The orthogonal projection of the real and imaginary components of a complex phasor ($e^{i\\theta}$) shows that complex phasors in fact contain both a $\\sin$ and $\\cos$ component."
   ]
  },
  {
   "cell_type": "code",
   "execution_count": null,
   "metadata": {
    "slideshow": {
     "slide_type": "skip"
    }
   },
   "outputs": [],
   "source": [
    "from ipython_animation import DEFAULT_FPS\n",
    "\n",
    "from matplotlib.patches import Circle\n",
    "from mpl_toolkits.mplot3d import Axes3D\n",
    "import mpl_toolkits.mplot3d.art3d as art3d\n",
    "\n",
    "animation_length_seconds = 6\n",
    "num_frames = DEFAULT_FPS * animation_length_seconds\n",
    "\n",
    "fig = plt.figure(figsize=(12, 12))\n",
    "ax = plt.gca(projection='3d')\n",
    "\n",
    "fig.suptitle('Complex sinusoid projected on real and imaginary axis', size=16)\n",
    "plt.xlabel('Time')\n",
    "plt.ylabel('Real projection ($\\cos$)')\n",
    "ax.set_zlabel('Imaginary projection ($\\sin$)')\n",
    "\n",
    "radius = 1\n",
    "center = (0.0, 0.0)\n",
    "# Draw a circle on the x=0 'wall'\n",
    "p = Circle(center, radius, color='black', alpha=0.2)\n",
    "ax.add_patch(p)\n",
    "art3d.pathpatch_2d_to_3d(p, z=0, zdir='x')\n",
    "\n",
    "xlim = [0, 1]\n",
    "ylim = [-2, 2]\n",
    "zlim = [-2, 2]\n",
    "ax.set_xlim(xlim)\n",
    "ax.set_ylim(ylim)\n",
    "ax.set_zlim(zlim)\n",
    "projection_line_x, = ax.plot([xlim[0], xlim[0]], center, [center[0] + radius, zlim[1]], linewidth=3, label='Real')\n",
    "projection_line_y, = ax.plot([xlim[0], xlim[0]], [center[0] + radius, 1], center, linewidth=3, label='Imaginary')\n",
    "radius_line, = ax.plot([xlim[0], xlim[0]], [ylim[0], ylim[0]], [center[0], center[0] + radius], c='r', linewidth=3, label='Complex')\n",
    "projection_y_scatter = ax.scatter(-1, -1, -1)\n",
    "projection_z_scatter = ax.scatter(-1, -1, -1)\n",
    "ax.legend()\n",
    "\n",
    "ys = []\n",
    "zs = []\n",
    "\n",
    "theta_mutable = [0]\n",
    "angular_velocity = 4 * np.pi / num_frames\n",
    "\n",
    "def animate_complex_projection(i):\n",
    "    theta_mutable[0] += angular_velocity\n",
    "    theta = theta_mutable[0]\n",
    "    phasor = np.e ** (1j * theta)\n",
    "    y = center[0] + phasor.real\n",
    "    z = center[1] + phasor.imag\n",
    "\n",
    "    radius_line.set_xdata([xlim[0], xlim[0]])\n",
    "    radius_line.set_ydata([center[0], y])\n",
    "    radius_line.set_3d_properties([center[1], z])\n",
    "\n",
    "    projection_line_x.set_xdata([xlim[0], xlim[0]])\n",
    "    projection_line_x.set_ydata([y, y])\n",
    "    projection_line_x.set_3d_properties([zlim[0], z])\n",
    "\n",
    "    projection_line_y.set_xdata([xlim[0], xlim[0]])\n",
    "    projection_line_y.set_ydata([y, ylim[1]])\n",
    "    projection_line_y.set_3d_properties([z, z])\n",
    "\n",
    "    if not (i == 0 and len(zs) > 0):\n",
    "        # animates at frame 0 twice for some reason...\n",
    "        ys.insert(0, y)\n",
    "        zs.insert(0, z)\n",
    "        \n",
    "    projection_y_scatter._offsets3d = np.linspace(xlim[0], (i + 1) / num_frames, len(ys)), np.array(ys), np.full(len(ys), zlim[0])\n",
    "    projection_z_scatter._offsets3d = np.linspace(xlim[0], (i + 1) / num_frames, len(zs)), np.full(len(zs), zlim[1]), np.array(zs)"
   ]
  },
  {
   "cell_type": "code",
   "execution_count": null,
   "metadata": {
    "slideshow": {
     "slide_type": "slide"
    }
   },
   "outputs": [],
   "source": [
    "create_animation(fig, plt, animate_complex_projection, length_seconds=animation_length_seconds)"
   ]
  },
  {
   "cell_type": "markdown",
   "metadata": {
    "slideshow": {
     "slide_type": "slide"
    }
   },
   "source": [
    "Here's a simple 3D plot showing the motion of a phasor through complex-coordinate space over time:"
   ]
  },
  {
   "cell_type": "code",
   "execution_count": null,
   "metadata": {
    "slideshow": {
     "slide_type": "fragment"
    }
   },
   "outputs": [],
   "source": [
    "angles = np.linspace(0, 8 * np.pi, 200)\n",
    "phasors = np.e **(1j * angles)\n",
    "\n",
    "fig = plt.figure(figsize=(12, 12))\n",
    "ax = plt.gca(projection='3d')\n",
    "\n",
    "ax.set_xlim(angles.min(), angles.max())\n",
    "ax.set_ylim(-2, 2)\n",
    "ax.set_zlim(-2, 2)\n",
    "ax.set_xlabel('$\\\\theta$')\n",
    "ax.set_ylabel('Real')\n",
    "ax.set_zlabel('Imaginary')\n",
    "\n",
    "ax.plot(angles, phasors.real, np.full(phasors.size, -2), linewidth=4, alpha=0.5, label='Real')\n",
    "ax.plot(angles, np.full(phasors.size, 2), phasors.imag,  linewidth=4, alpha=0.5, label='Imaginary')\n",
    "ax.plot(angles, phasors.real, phasors.imag, linewidth=4, label='Complex', c='r')\n",
    "ax.set_title('Complex sinusoid', y=1.04, size=14)\n",
    "_ = ax.legend()"
   ]
  },
  {
   "cell_type": "markdown",
   "metadata": {
    "slideshow": {
     "slide_type": "slide"
    }
   },
   "source": [
    "## Complex Numbers\n",
    "\n",
    "Define $i \\triangleq \\sqrt{-1}$.\n",
    "\n",
    "Then,\n",
    "\n",
    "$i^2 = -1\\\\\n",
    "i^3 = (i^2)\\cdot i = -i\\\\\n",
    "i^4 = (i^3)\\cdot i = -i\\cdot i = -i^2 = 1$"
   ]
  },
  {
   "cell_type": "code",
   "execution_count": null,
   "metadata": {
    "slideshow": {
     "slide_type": "skip"
    }
   },
   "outputs": [],
   "source": [
    "def plot_powers_of_i(powers_of_i, title='Plotting $i^n$ on the complex plane', show_labels=True):\n",
    "    plt.figure(figsize=(8, 8))\n",
    "    plt.title(title)\n",
    "    plt.xlabel('Real part')\n",
    "    plt.ylabel('Imaginary part')\n",
    "    plt.xlim(-1.5, 1.5)\n",
    "    plt.ylim(-1.5, 1.5)\n",
    "    plt.grid(True)\n",
    "    plt.scatter(powers_of_i.real, powers_of_i.imag, s=100)\n",
    "\n",
    "    if show_labels:\n",
    "        for power in np.arange(1, len(powers_of_i) + 1):\n",
    "            z = 1j ** power\n",
    "            plt.annotate('$i^%i$' % power, (z.real + 0.04, z.imag + 0.04), size=20)"
   ]
  },
  {
   "cell_type": "markdown",
   "metadata": {
    "slideshow": {
     "slide_type": "slide"
    }
   },
   "source": [
    "We can plot any complex number $z = x + iy$ in a plane as an ordered pair $(x, y)$:"
   ]
  },
  {
   "cell_type": "code",
   "execution_count": null,
   "metadata": {
    "slideshow": {
     "slide_type": "fragment"
    }
   },
   "outputs": [],
   "source": [
    "plot_powers_of_i(1j ** np.arange(1, 5))"
   ]
  },
  {
   "cell_type": "markdown",
   "metadata": {
    "slideshow": {
     "slide_type": "slide"
    }
   },
   "source": [
    "We can generalize this to non-integer exponentials to create a circle!"
   ]
  },
  {
   "cell_type": "code",
   "execution_count": null,
   "metadata": {
    "slideshow": {
     "slide_type": "fragment"
    }
   },
   "outputs": [],
   "source": [
    "plot_powers_of_i(1j ** np.linspace(0, 4, 100), show_labels=False)"
   ]
  },
  {
   "cell_type": "markdown",
   "metadata": {
    "slideshow": {
     "slide_type": "slide"
    }
   },
   "source": [
    "But how to specify a specific radian angle $\\theta$ on the unit circle?\n",
    "\n",
    "It turns out we can use $e^{i\\theta}$ (because magic):"
   ]
  },
  {
   "cell_type": "code",
   "execution_count": null,
   "metadata": {
    "slideshow": {
     "slide_type": "fragment"
    }
   },
   "outputs": [],
   "source": [
    "angles = np.linspace(0, 2 * np.pi, 100)\n",
    "plot_powers_of_i(np.e ** (1j * angles), title='Plotting $e^{i\\\\theta}$ on the complex plane', show_labels=False)"
   ]
  },
  {
   "cell_type": "markdown",
   "metadata": {
    "slideshow": {
     "slide_type": "slide"
    }
   },
   "source": [
    "## DFT in equation form\n",
    "\n",
    "$X(k) = \\frac{1}{N}\\sum_\\limits{n=0}^\\limits{N-1}x(n)e^{-ik\\omega n / N}$\n",
    "\n",
    "\n",
    "The complex return values of $X(k)$ contain both the amplitude spectrum and the phase spectrum."
   ]
  },
  {
   "cell_type": "code",
   "execution_count": null,
   "metadata": {
    "slideshow": {
     "slide_type": "fragment"
    }
   },
   "outputs": [],
   "source": [
    "def dft(x, k):\n",
    "    N = len(x)\n",
    "    return (x * np.exp(-1j * k * 2 * np.pi * np.linspace(0, 1, N))).sum() / N"
   ]
  },
  {
   "cell_type": "markdown",
   "metadata": {
    "slideshow": {
     "slide_type": "slide"
    }
   },
   "source": [
    "## Analyzing Real-World Signals"
   ]
  },
  {
   "cell_type": "code",
   "execution_count": null,
   "metadata": {
    "slideshow": {
     "slide_type": "fragment"
    }
   },
   "outputs": [],
   "source": [
    "def get_positive_frequencies(X):\n",
    "    return X[-1:-1-(X.size // 2):-1]\n",
    "\n",
    "def get_magnitude_spectrum(x):\n",
    "    return np.abs(get_positive_frequencies(dft(x))) * 2"
   ]
  },
  {
   "cell_type": "code",
   "execution_count": null,
   "metadata": {
    "slideshow": {
     "slide_type": "fragment"
    }
   },
   "outputs": [],
   "source": [
    "x = np.sin(2 * np.pi * 4 * np.linspace(0, 1, 100))\n",
    "fig = plt.figure(figsize=(9, 6))\n",
    "x_plot = plt.subplot(211)\n",
    "x_plot.plot(x)\n",
    "x_plot.set_title('Test signal - pure $\\sin$ with $f = 4$')\n",
    "x_plot.set_xlim(0, len(x) - 1)\n",
    "spectrum_plot = plt.subplot(212)\n",
    "X = get_magnitude_spectrum(x)\n",
    "spectrum_plot.plot(X, c='r')\n",
    "spectrum_plot.set_title('Spectrum of pure $\\sin$ test signal')\n",
    "spectrum_plot.set_xlabel('Positive increasing frequencies')\n",
    "spectrum_plot.set_ylabel('Magnitude')\n",
    "spectrum_plot.set_xlim(0, len(X) - 1)\n",
    "plt.tight_layout()"
   ]
  },
  {
   "cell_type": "markdown",
   "metadata": {
    "slideshow": {
     "slide_type": "slide"
    }
   },
   "source": [
    "### Windowing\n",
    "\n",
    "Windowing helps reduce the _leakage_ problem, where discontinuities at the edge of the analysis window introduce noise throughout the spectrum.  The energy that should be in one spectral harmonic spreads into adjacent harmonics because the DFT assums it is given _one period of an infinitely repeating periodic function_ at the fundamental analysis frequency."
   ]
  },
  {
   "cell_type": "code",
   "execution_count": null,
   "metadata": {
    "slideshow": {
     "slide_type": "skip"
    }
   },
   "outputs": [],
   "source": [
    "import matplotlib.pyplot as plt\n",
    "import numpy as np\n",
    "\n",
    "fig = plt.figure(figsize=(10, 8))\n",
    "\n",
    "signal_plot = plt.subplot(221)\n",
    "signal_plot.set_title('Sine before windowing')\n",
    "signal_plot.set_xlabel('angle (radians)')\n",
    "signal_plot.set_ylabel('sin(x)')\n",
    "\n",
    "spectrum_plot = plt.subplot(222)\n",
    "spectrum_plot.set_title('Spectrum before windowing')\n",
    "\n",
    "signal_plot_windowed = plt.subplot(223)\n",
    "signal_plot_windowed.set_title('Sine after windowing')\n",
    "signal_plot_windowed.set_xlabel('angle (radians)')\n",
    "signal_plot_windowed.set_ylabel('sin(x) (Windowed)')\n",
    "\n",
    "spectrum_plot_windowed = plt.subplot(224)\n",
    "spectrum_plot_windowed.set_title('Spectrum after windowing\\n(using Blackman window)')\n",
    "\n",
    "N = 64\n",
    "x = np.linspace(0, 2 * np.pi, N) # multiple of pi will be exactly periodic over window length\n",
    "signal_line, = signal_plot.plot(x, np.zeros(N), label='Angle (radians)')\n",
    "X_line, = spectrum_plot.plot(np.zeros(N // 2), color='r')\n",
    "signal_windowed_line, = signal_plot_windowed.plot(x, np.zeros(N), label='Angle (radians)')\n",
    "X_line_windowed, = spectrum_plot_windowed.plot(np.zeros(N // 2), color='r')\n",
    "\n",
    "signal_plot.axis([0, x.max(), -1, 1])\n",
    "signal_plot_windowed.axis([0, x.max(), -1, 1])\n",
    "spectrum_plot.axis([0, N // 2 - 1, 0, 1.1])\n",
    "spectrum_plot_windowed.axis([0, N // 2 - 1, 0, 1.1])\n",
    "plt.tight_layout()\n",
    "\n",
    "window = np.blackman(N)\n",
    "def animate_windowing(i):\n",
    "    freq = (i + 100) / 25\n",
    "    y = np.sin(freq * x)\n",
    "    X = get_magnitude_spectrum(y)\n",
    "    signal_line.set_ydata(y)\n",
    "    X_line.set_ydata(X)\n",
    "    spectrum_plot.legend(handles=[X_line], labels=['Freq (radians): {0:.2f}'.format(freq)])\n",
    "\n",
    "    y_windowed = y * window\n",
    "    signal_windowed_line.set_ydata(y_windowed)\n",
    "    X_windowed = get_magnitude_spectrum(y_windowed)\n",
    "    X_line_windowed.set_ydata(X_windowed)\n",
    "    spectrum_plot_windowed.legend(handles=[X_line_windowed], labels=['Freq (radians): {0:.3f}'.format(freq)])"
   ]
  },
  {
   "cell_type": "code",
   "execution_count": null,
   "metadata": {
    "slideshow": {
     "slide_type": "slide"
    }
   },
   "outputs": [],
   "source": [
    "create_animation(fig, plt, animate_windowing, length_seconds=4, default_mode='reflect')"
   ]
  }
 ],
 "metadata": {
  "celltoolbar": "Slideshow",
  "kernelspec": {
   "display_name": "Python 3",
   "language": "python",
   "name": "python3"
  },
  "language_info": {
   "codemirror_mode": {
    "name": "ipython",
    "version": 3
   },
   "file_extension": ".py",
   "mimetype": "text/x-python",
   "name": "python",
   "nbconvert_exporter": "python",
   "pygments_lexer": "ipython3",
   "version": "3.7.3"
  }
 },
 "nbformat": 4,
 "nbformat_minor": 2
}

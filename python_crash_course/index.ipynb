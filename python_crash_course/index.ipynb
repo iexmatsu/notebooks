{
 "cells": [
  {
   "cell_type": "markdown",
   "metadata": {},
   "source": [
    "# Index\n",
    "\n",
    "[Chapter 1](https://colab.research.google.com/github/khiner/notebooks/blob/master/python_crash_course/chapter_1.ipynb)\n",
    "\n",
    "[Chapter 2](https://colab.research.google.com/github/khiner/notebooks/blob/master/python_crash_course/chapter_2.ipynb)\n",
    "\n",
    "[Chapter 3](https://colab.research.google.com/github/khiner/notebooks/blob/master/python_crash_course/chapter_3.ipynb)\n",
    "\n",
    "[Chapter 4](https://colab.research.google.com/github/khiner/notebooks/blob/master/python_crash_course/chapter_4.ipynb)\n",
    "\n",
    "[Chapter 5](https://colab.research.google.com/github/khiner/notebooks/blob/master/python_crash_course/chapter_5.ipynb)\n",
    "\n",
    "[Chapter 6](https://colab.research.google.com/github/khiner/notebooks/blob/master/python_crash_course/chapter_6.ipynb)\n",
    "\n",
    "[Chapter 7](https://colab.research.google.com/github/khiner/notebooks/blob/master/python_crash_course/chapter_7.ipynb)\n",
    "\n",
    "[Chapter 8](https://colab.research.google.com/github/khiner/notebooks/blob/master/python_crash_course/chapter_8.ipynb)\n",
    "\n",
    "[Chapter 9](https://colab.research.google.com/github/khiner/notebooks/blob/master/python_crash_course/chapter_9.ipynb)\n",
    "\n",
    "[Chapter 10](https://colab.research.google.com/github/khiner/notebooks/blob/master/python_crash_course/chapter_10.ipynb)\n",
    "\n",
    "[Chapter 11](https://colab.research.google.com/github/khiner/notebooks/blob/master/python_crash_course/chapter_11.ipynb)\n",
    "\n",
    "[Chapter 12, 13 & 14](https://colab.research.google.com/github/khiner/notebooks/blob/master/python_crash_course/chapters_12_13_and_14.ipynb)\n",
    "\n",
    "[Chapter 15](https://colab.research.google.com/github/khiner/notebooks/blob/master/python_crash_course/chapter_15.ipynb)\n",
    "\n",
    "[Chapter 16](https://colab.research.google.com/github/khiner/notebooks/blob/master/python_crash_course/chapter_16.ipynb)\n",
    "\n",
    "[Chapter 17](https://colab.research.google.com/github/khiner/notebooks/blob/master/python_crash_course/chapter_17.ipynb)\n",
    "\n",
    "[Chapter 18, 19 & 20](https://colab.research.google.com/github/khiner/notebooks/blob/master/python_crash_course/chapters_18_19_and_20.ipynb)"
   ]
  }
 ],
 "metadata": {
  "kernelspec": {
   "display_name": "Python 3",
   "language": "python",
   "name": "python3"
  },
  "language_info": {
   "codemirror_mode": {
    "name": "ipython",
    "version": 3
   },
   "file_extension": ".py",
   "mimetype": "text/x-python",
   "name": "python",
   "nbconvert_exporter": "python",
   "pygments_lexer": "ipython3",
   "version": "3.7.3"
  }
 },
 "nbformat": 4,
 "nbformat_minor": 2
}

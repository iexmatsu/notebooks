{
 "cells": [
  {
   "cell_type": "markdown",
   "metadata": {},
   "source": [
    "# Index\n",
    "\n",
    "[Chapter 1: Introduction to the DFT](https://colab.research.google.com/github/khiner/notebooks/blob/master/mathematics_of_the_dft/chapter_1_introduction_to_the_dft.ipynb)\n",
    "\n",
    "[Chapter 2: Complex Numbers](https://colab.research.google.com/github/khiner/notebooks/blob/master/mathematics_of_the_dft/chapter_2_complex_numbers.ipynb)\n",
    "\n",
    "[Chapter 3: Proof of Euler's Identity](https://colab.research.google.com/github/khiner/notebooks/blob/master/mathematics_of_the_dft/chapter_3_proof_of_eulers_identity.ipynb)\n",
    "\n",
    "[Chapter 4: Sinusoids and Exponentials](https://colab.research.google.com/github/khiner/notebooks/blob/master/mathematics_of_the_dft/chapter_4_sinusoids_and_exponentials.ipynb)\n",
    "\n",
    "[Chapter 5: Geometric Signal Theory](https://colab.research.google.com/github/khiner/notebooks/blob/master/mathematics_of_the_dft/chapter_5_geometric_signal_theory.ipynb)\n",
    "\n",
    "[Chapter 6: Derivation of the Discrete Fourier Transform](https://colab.research.google.com/github/khiner/notebooks/blob/master/mathematics_of_the_dft/chapter_6_derivation_of_the_discrete_fourier_transform.ipynb)\n",
    "\n",
    "[Chapter 7: Fourier Theorems for the DFT](https://colab.research.google.com/github/khiner/notebooks/blob/master/mathematics_of_the_dft/chapter_7_fourier_theorems_for_the_dft.ipynb)\n",
    "\n",
    "[Chapter 8: DFT Applications](https://colab.research.google.com/github/khiner/notebooks/blob/master/mathematics_of_the_dft/chapter_8_dft_applications.ipynb)"
   ]
  }
 ],
 "metadata": {
  "kernelspec": {
   "display_name": "Python 3",
   "language": "python",
   "name": "python3"
  },
  "language_info": {
   "codemirror_mode": {
    "name": "ipython",
    "version": 3
   },
   "file_extension": ".py",
   "mimetype": "text/x-python",
   "name": "python",
   "nbconvert_exporter": "python",
   "pygments_lexer": "ipython3",
   "version": "3.7.3"
  }
 },
 "nbformat": 4,
 "nbformat_minor": 2
}
